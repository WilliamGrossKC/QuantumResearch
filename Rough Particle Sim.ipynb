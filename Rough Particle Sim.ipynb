{
 "cells": [
  {
   "cell_type": "code",
   "execution_count": 2,
   "metadata": {},
   "outputs": [
    {
     "data": {
      "image/png": "[encoded data removed]",
      "text/plain": [
       "<Figure size 432x288 with 1 Axes>"
      ]
     },
     "metadata": {
      "needs_background": "light"
     },
     "output_type": "display_data"
    },
    {
     "data": {
      "image/png": "[encoded data removed]",
      "text/plain": [
       "<Figure size 432x288 with 1 Axes>"
      ]
     },
     "metadata": {
      "needs_background": "light"
     },
     "output_type": "display_data"
    },
    {
     "name": "stdout",
     "output_type": "stream",
     "text": [
      "40 1.7320508075688774\n",
      "340 3.16227766016838\n",
      "620 3.7416573867739418\n"
     ]
    }
   ],
   "source": [
    "import math\n",
    "import matplotlib.pyplot as plt\n",
    "import random\n",
    "\n",
    "class Vector(object):\n",
    "    def __init__(self, x = 0, y = 0):\n",
    "        self.x = x\n",
    "        self.y = y\n",
    "        self.magnitude = math.sqrt(self.x**2 + self.y**2)\n",
    "        \n",
    "    def subtract(self, other):\n",
    "        return Vector(self.x - other.x, self.y - other.y)\n",
    "    \n",
    "    def divide(self, num):\n",
    "        return Vector(self.x / num, self.y / num)\n",
    "    \n",
    "    def add(self, other):\n",
    "        return Vector(self.x + other.x, self.y + other.y)\n",
    "    \n",
    "    def multiply(self, num):\n",
    "        return Vector(self.x * num, self.y * num)\n",
    "    \n",
    "    def __str__(self):\n",
    "        return '(' + str(self.x) +', ' + str(self.y) + ')'\n",
    "\n",
    "    \n",
    "class Particle(object):\n",
    "    def __init__(self, mass, radius = 1, position = Vector(), velocity = Vector(), acceleration = Vector()):\n",
    "        self.position = position\n",
    "        self.previous_position = position\n",
    "        self.velocity = velocity\n",
    "        self.acceleration = acceleration\n",
    "        self.mass = mass\n",
    "        self.radius = radius\n",
    "        self.centroid = None\n",
    "        \n",
    "    def get_acceleration(self, other):\n",
    "        G = 3.67*10**-11\n",
    "        distance = other.previous_position.subtract(self.position)\n",
    "        # Calculates a distance\n",
    "        r = distance.magnitude\n",
    "        if 0.0 < r < self.radius + other.radius:\n",
    "            return None\n",
    "        if r == 0.0:\n",
    "            return Vector()\n",
    "        F_magnitude = G*other.mass/r**2 \n",
    "        return distance.divide(r).multiply(F_magnitude)\n",
    "\n",
    "    def update_acceleration(self, interacting_set):\n",
    "        for element in interacting_set:\n",
    "            if element == self:\n",
    "                return\n",
    "            new_interaction = self.get_acceleration(element)\n",
    "            if new_interaction == None:\n",
    "                self.velocity = element.velocity.multiply(element.mass).add(self.velocity.multiply(self.mass)).divide((self.mass + element.mass))\n",
    "                if self.mass >= element.mass:\n",
    "                    self.mass += element.mass\n",
    "                else:\n",
    "                    self.mass += element.mass\n",
    "                    self.radius = math.sqrt(element.radius**2 + self.radius**2)\n",
    "                    self.position = element.position\n",
    "                    self.acceleration = element.acceleration\n",
    "                interacting_set.remove(element)\n",
    "            else:\n",
    "                self.acceleration = self.acceleration.add(new_interaction)\n",
    "    \n",
    "    def update_velocity(self, time_interval):\n",
    "        self.velocity = self.velocity.add(self.acceleration.multiply(time_interval))\n",
    "    \n",
    "    def get_interacting_set(self, centroids, particles):\n",
    "        interacting_set = []\n",
    "        for i in range(len(centroids)):\n",
    "            if self.centroid != centroids[i]:\n",
    "                interacting_set.append(centroid[i])\n",
    "        for i in range(len(particles)):\n",
    "            if particles[i].centroid == self.centroid:\n",
    "                interacting_set.append(centroid[i])\n",
    "        return interacting_set\n",
    "                \n",
    "    def update_position(self, time_interval, interacting_set):\n",
    "        self.previous_position = self.position\n",
    "        self.update_acceleration(interacting_set)\n",
    "        self.update_velocity(time_interval)\n",
    "        self.position = self.position.add(self.velocity.multiply(time_interval))\n",
    "\n",
    "def n_body_sim(num_particles):\n",
    "    particles = []\n",
    "    mass = 10\n",
    "    radius = 200\n",
    "    for i in range(num_particles):\n",
    "        position = Vector(random.randint(-radius,radius), random.randint(-radius,radius))\n",
    "        velocity = position.multiply(-0.25)\n",
    "        particles.append(Particle(mass, position = position, velocity = velocity))\n",
    "    tmax = 200\n",
    "    first_and_last(tmax, particles, radius)\n",
    "    #every_time(tmax, particles, radius)\n",
    "    for i in range(len(particles)):\n",
    "        print(particles[i].mass, particles[i].radius)\n",
    "\n",
    "def first_and_last(tmax, particles, radius):\n",
    "    for t in range(tmax + 1):\n",
    "        X_values = []\n",
    "        Y_values = []\n",
    "        i = 0\n",
    "        while i < len(particles):\n",
    "            element = particles[i]\n",
    "            element.update_position(0.1, particles)\n",
    "            if tmax == t or t == 0:\n",
    "                X_values.append(element.position.x)\n",
    "                Y_values.append(element.position.y)\n",
    "            i += 1\n",
    "        if tmax == t or t == 0:\n",
    "            plt.scatter(X_values, Y_values)\n",
    "            plt.show()\n",
    "\n",
    "def every_time(tmax, particles, radius):\n",
    "    for t in range(tmax + 1):\n",
    "        X_values = []\n",
    "        Y_values = []\n",
    "        i = 0\n",
    "        while i < len(particles):\n",
    "            element = particles[i]\n",
    "            element.update_position(0.1, particles)\n",
    "            X_values.append(element.position.x)\n",
    "            Y_values.append(element.position.y)\n",
    "            i += 1\n",
    "        plt.scatter(X_values, Y_values)\n",
    "        plt.show()\n",
    "        \n",
    "\n",
    "n_body_sim(100)"
   ]
  },
  {
   "cell_type": "code",
   "execution_count": null,
   "metadata": {},
   "outputs": [],
   "source": [
    "# k means or another clustering algo\n",
    "def k_means(particles, num_centroids):\n",
    "    # Input all particles, recluster all particles\n",
    "    # Particles outside of one's cluster are not in interacting set.\n",
    "    return"
   ]
  },
  {
   "cell_type": "code",
   "execution_count": null,
   "metadata": {},
   "outputs": [],
   "source": []
  },
  {
   "cell_type": "code",
   "execution_count": null,
   "metadata": {},
   "outputs": [],
   "source": []
  }
 ],
 "metadata": {
  "kernelspec": {
   "display_name": "Python 3",
   "language": "python",
   "name": "python3"
  },
  "language_info": {
   "codemirror_mode": {
    "name": "ipython",
    "version": 3
   },
   "file_extension": ".py",
   "mimetype": "text/x-python",
   "name": "python",
   "nbconvert_exporter": "python",
   "pygments_lexer": "ipython3",
   "version": "3.7.6"
  }
 },
 "nbformat": 4,
 "nbformat_minor": 4
}
